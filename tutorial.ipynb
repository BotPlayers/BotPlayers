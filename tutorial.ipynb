{
 "cells": [
  {
   "cell_type": "markdown",
   "metadata": {},
   "source": [
    "# Function Calling\n",
    "\n",
    "This is a simple example of how to enable agents to use functions."
   ]
  },
  {
   "cell_type": "code",
   "execution_count": 2,
   "metadata": {},
   "outputs": [],
   "source": [
    "# First, import the agent_callable decorator from botplayers.\n",
    "from botplayers import agent_callable, Agent"
   ]
  },
  {
   "cell_type": "code",
   "execution_count": 3,
   "metadata": {},
   "outputs": [],
   "source": [
    "# Then, define a function that can be called by agents.\n",
    "# 1. The function must be decorated with agent_callable.\n",
    "# 2. The function can have any number of arguments.\n",
    "# 3. The function can return any JSON-serializable object.\n",
    "# 4. [IMPORTANT] Tell agents how to call this function by writing a docstring.\n",
    "@agent_callable()\n",
    "def calculator(python_math_expression: str):\n",
    "    \"\"\"\n",
    "    A simple calculator that can do basic math operations.\n",
    "    Use math module to call functions or use constants like \n",
    "        math.sqrt, math.sin, math.cos, math.tan, math.asin, math.acos, math.atan, \n",
    "        math.log, math.log10, math.exp, math.e, math.pi.\n",
    "\n",
    "    Args:\n",
    "        python_math_expression: a python math expression.\n",
    "    \"\"\"\n",
    "    import math\n",
    "    return {'result': eval(python_math_expression, {'math': math})}"
   ]
  },
  {
   "cell_type": "code",
   "execution_count": 4,
   "metadata": {},
   "outputs": [],
   "source": [
    "# Now, let's see how to call this function from agents.\n",
    "# First, create an agent. Use prompt to tell agents what they can do.\n",
    "agent = Agent(\n",
    "    name='Bot', \n",
    "    prompt=\"You are a helpful bot. You can use functions to accomplish tasks.\",\n",
    "    function_call_repeats=10, \n",
    "    ignore_none_function_messages=False)"
   ]
  },
  {
   "cell_type": "code",
   "execution_count": 5,
   "metadata": {},
   "outputs": [
    {
     "name": "stdout",
     "output_type": "stream",
     "text": [
      "\u001b[92mBot received a message: Could please tell me what is 234*(212-3456)/(121-21241)?\u001b[0m\n",
      "\u001b[93mBot >> \u001b[0m\n",
      "\u001b[94m    Bot is calling function calculator ...\u001b[0m\n",
      "\u001b[94m        with arguments {'python_math_expression': '234*(212-3456)/(121-21241)'}\u001b[0m\n",
      "\u001b[94m        response: {'result': 35.94204545454546}\u001b[0m\n",
      "\u001b[93mBot >> \u001b[0m\n",
      "\u001b[93m\u001b[0m\u001b[93mThe\u001b[0m\u001b[93m result\u001b[0m\u001b[93m of\u001b[0m\u001b[93m the\u001b[0m\u001b[93m expression\u001b[0m\u001b[93m \u001b[0m\u001b[93m234\u001b[0m\u001b[93m*(\u001b[0m\u001b[93m212\u001b[0m\u001b[93m-\u001b[0m\u001b[93m345\u001b[0m\u001b[93m6\u001b[0m\u001b[93m)/(\u001b[0m\u001b[93m121\u001b[0m\u001b[93m-\u001b[0m\u001b[93m212\u001b[0m\u001b[93m41\u001b[0m\u001b[93m)\u001b[0m\u001b[93m is\u001b[0m\u001b[93m approximately\u001b[0m\u001b[93m \u001b[0m\u001b[93m35\u001b[0m\u001b[93m.\u001b[0m\u001b[93m942\u001b[0m\u001b[93m045\u001b[0m\u001b[93m454\u001b[0m\u001b[93m545\u001b[0m\u001b[93m46\u001b[0m\u001b[93m.\u001b[0m\n"
     ]
    }
   ],
   "source": [
    "# Then, run the agent.\n",
    "user_message = \"Could please tell me what is 234*(212-3456)/(121-21241)?\"\n",
    "agent.receive_message({'role': 'user', 'content': user_message})\n",
    "agent.think_and_act()"
   ]
  },
  {
   "cell_type": "markdown",
   "metadata": {},
   "source": [
    "# World Interaction\n",
    "\n",
    "Agents can also use functions to interact with a stateful environment, e.g the world."
   ]
  },
  {
   "cell_type": "code",
   "execution_count": 6,
   "metadata": {},
   "outputs": [],
   "source": [
    "# Now, lets import the World class from the botplayers package\n",
    "from botplayers import World\n",
    "\n",
    "# Define simple environment with a simple state.\n",
    "class Env(World):\n",
    "    messages: dict[str, list] = dict()\n",
    "\n",
    "    # Define a callable classmethod that can be called by agents.\n",
    "    # Note that, the `self` and the `agent_name` parameters are invisible to agents.\n",
    "    # The `agent_name` parameter is automatically filled by the agent's name.\n",
    "    # The `self` parameter is automatically filled by the world instance.\n",
    "    # Therefore, do not mention `self` and `agent_name` in the docstring.\n",
    "    @agent_callable()\n",
    "    def store(self, agent_name: str, message: str):\n",
    "        \"\"\"\n",
    "        Store a message from an agent.\n",
    "\n",
    "        Args:\n",
    "            message: the message to store.\n",
    "        \"\"\"\n",
    "        if agent_name not in self.messages:\n",
    "            self.messages[agent_name] = []\n",
    "        self.messages[agent_name].append(message)\n",
    "        return 'done'\n",
    "\n",
    "    @agent_callable()\n",
    "    def get_stored_messages(self, agent_name):\n",
    "        \"\"\"\n",
    "        Get all stored messages.\n",
    "\n",
    "        Returns:\n",
    "            messages: the list of messages.\n",
    "        \"\"\"\n",
    "        return {'messages': self.messages.get(agent_name, [])}"
   ]
  },
  {
   "cell_type": "code",
   "execution_count": 7,
   "metadata": {},
   "outputs": [
    {
     "name": "stdout",
     "output_type": "stream",
     "text": [
      "\u001b[92mBot received a message: Please propose three complex math calculation problems. First compute them, then store both the questions and answers.\u001b[0m\n",
      "\u001b[93mBot >> \u001b[0m\n"
     ]
    },
    {
     "name": "stdout",
     "output_type": "stream",
     "text": [
      "\u001b[94m    Bot is calling function calculator ...\u001b[0m\n",
      "\u001b[94m        with arguments {'python_math_expression': '2**3 + 7**2'}\u001b[0m\n",
      "\u001b[94m        response: {'result': 57}\u001b[0m\n",
      "\u001b[93mBot >> \u001b[0m\n",
      "\u001b[94m    Bot is calling function store ...\u001b[0m\n",
      "\u001b[94m        with arguments {'message': 'What is the result of 2**3 + 7**2?'}\u001b[0m\n",
      "\u001b[94m        response: done\u001b[0m\n",
      "\u001b[93mBot >> \u001b[0m\n",
      "\u001b[94m    Bot is calling function store ...\u001b[0m\n",
      "\u001b[94m        with arguments {'message': 'The result of 2**3 + 7**2 is 57.'}\u001b[0m\n",
      "\u001b[94m        response: done\u001b[0m\n",
      "\u001b[93mBot >> \u001b[0m\n",
      "\u001b[94m    Bot is calling function calculator ...\u001b[0m\n",
      "\u001b[94m        with arguments {'python_math_expression': 'sqrt(121) + log10(1000)'}\u001b[0m\n",
      "\u001b[91m        error: name 'sqrt' is not defined\u001b[0m\n",
      "\u001b[93mBot >> \u001b[0m\n",
      "\u001b[94m    Bot is calling function calculator ...\u001b[0m\n",
      "\u001b[94m        with arguments {'python_math_expression': 'import math\\nmath.sqrt(121) + math.log10(1000)'}\u001b[0m\n",
      "\u001b[91m        error: invalid syntax (<string>, line 1)\u001b[0m\n",
      "\u001b[93mBot >> \u001b[0m\n",
      "\u001b[94m    Bot is calling function calculator ...\u001b[0m\n",
      "\u001b[94m        with arguments {'python_math_expression': 'math.sqrt(121) + math.log10(1000)'}\u001b[0m\n",
      "\u001b[94m        response: {'result': 14.0}\u001b[0m\n",
      "\u001b[93mBot >> \u001b[0m\n",
      "\u001b[94m    Bot is calling function store ...\u001b[0m\n",
      "\u001b[94m        with arguments {'message': 'What is the result of math.sqrt(121) + math.log10(1000)?'}\u001b[0m\n",
      "\u001b[94m        response: done\u001b[0m\n",
      "\u001b[93mBot >> \u001b[0m\n",
      "\u001b[94m    Bot is calling function store ...\u001b[0m\n",
      "\u001b[94m        with arguments {'message': 'The result of math.sqrt(121) + math.log10(1000) is 14.0.'}\u001b[0m\n",
      "\u001b[94m        response: done\u001b[0m\n",
      "\u001b[93mBot >> \u001b[0m\n",
      "\u001b[94m    Bot is calling function calculator ...\u001b[0m\n",
      "\u001b[94m        with arguments {'python_math_expression': '10 * (3 + 5) / 2'}\u001b[0m\n",
      "\u001b[94m        response: {'result': 40.0}\u001b[0m\n",
      "\u001b[93mBot >> \u001b[0m\n",
      "\u001b[94m    Bot is calling function store ...\u001b[0m\n",
      "\u001b[94m        with arguments {'message': 'What is the result of 10 * (3 + 5) / 2?'}\u001b[0m\n",
      "\u001b[94m        response: done\u001b[0m\n",
      "\u001b[92mBot received a message: Please show me the questions and answers.\u001b[0m\n",
      "\u001b[93mBot >> \u001b[0m\n",
      "\u001b[94m    Bot is calling function get_stored_messages ...\u001b[0m\n",
      "\u001b[94m        with arguments {}\u001b[0m\n",
      "\u001b[94m        response: {'messages': ['What is the result of 2**3 + 7**2?', 'The result of 2**3 + 7**2 is 57.', 'What is the result of math.sqrt(121) + math.log10(1000)?', 'The result of math.sqrt(121) + math.log10(1000) is 14.0.', 'What is the result of 10 * (3 + 5) / 2?']}\u001b[0m\n",
      "\u001b[93mBot >> \u001b[0m\n",
      "\u001b[93m\u001b[0m\u001b[93mHere\u001b[0m\u001b[93m are\u001b[0m\u001b[93m the\u001b[0m\u001b[93m questions\u001b[0m\u001b[93m and\u001b[0m\u001b[93m answers\u001b[0m\u001b[93m:\n",
      "\n",
      "\u001b[0m\u001b[93m1\u001b[0m\u001b[93m.\u001b[0m\u001b[93m Question\u001b[0m\u001b[93m:\u001b[0m\u001b[93m What\u001b[0m\u001b[93m is\u001b[0m\u001b[93m the\u001b[0m\u001b[93m result\u001b[0m\u001b[93m of\u001b[0m\u001b[93m \u001b[0m\u001b[93m2\u001b[0m\u001b[93m**\u001b[0m\u001b[93m3\u001b[0m\u001b[93m +\u001b[0m\u001b[93m \u001b[0m\u001b[93m7\u001b[0m\u001b[93m**\u001b[0m\u001b[93m2\u001b[0m\u001b[93m?\n",
      "\u001b[0m\u001b[93m  \u001b[0m\u001b[93m Answer\u001b[0m\u001b[93m:\u001b[0m\u001b[93m The\u001b[0m\u001b[93m result\u001b[0m\u001b[93m of\u001b[0m\u001b[93m \u001b[0m\u001b[93m2\u001b[0m\u001b[93m**\u001b[0m\u001b[93m3\u001b[0m\u001b[93m +\u001b[0m\u001b[93m \u001b[0m\u001b[93m7\u001b[0m\u001b[93m**\u001b[0m\u001b[93m2\u001b[0m\u001b[93m is\u001b[0m\u001b[93m \u001b[0m\u001b[93m57\u001b[0m\u001b[93m.\n",
      "\n",
      "\u001b[0m\u001b[93m2\u001b[0m\u001b[93m.\u001b[0m\u001b[93m Question\u001b[0m\u001b[93m:\u001b[0m\u001b[93m What\u001b[0m\u001b[93m is\u001b[0m\u001b[93m the\u001b[0m\u001b[93m result\u001b[0m\u001b[93m of\u001b[0m\u001b[93m math\u001b[0m\u001b[93m.sqrt\u001b[0m\u001b[93m(\u001b[0m\u001b[93m121\u001b[0m\u001b[93m)\u001b[0m\u001b[93m +\u001b[0m\u001b[93m math\u001b[0m\u001b[93m.log\u001b[0m\u001b[93m10\u001b[0m\u001b[93m(\u001b[0m\u001b[93m100\u001b[0m\u001b[93m0\u001b[0m\u001b[93m)?\n",
      "\u001b[0m\u001b[93m  \u001b[0m\u001b[93m Answer\u001b[0m\u001b[93m:\u001b[0m\u001b[93m The\u001b[0m\u001b[93m result\u001b[0m\u001b[93m of\u001b[0m\u001b[93m math\u001b[0m\u001b[93m.sqrt\u001b[0m\u001b[93m(\u001b[0m\u001b[93m121\u001b[0m\u001b[93m)\u001b[0m\u001b[93m +\u001b[0m\u001b[93m math\u001b[0m\u001b[93m.log\u001b[0m\u001b[93m10\u001b[0m\u001b[93m(\u001b[0m\u001b[93m100\u001b[0m\u001b[93m0\u001b[0m\u001b[93m)\u001b[0m\u001b[93m is\u001b[0m\u001b[93m \u001b[0m\u001b[93m14\u001b[0m\u001b[93m.\u001b[0m\u001b[93m0\u001b[0m\u001b[93m.\n",
      "\n",
      "\u001b[0m\u001b[93m3\u001b[0m\u001b[93m.\u001b[0m\u001b[93m Question\u001b[0m\u001b[93m:\u001b[0m\u001b[93m What\u001b[0m\u001b[93m is\u001b[0m\u001b[93m the\u001b[0m\u001b[93m result\u001b[0m\u001b[93m of\u001b[0m\u001b[93m \u001b[0m\u001b[93m10\u001b[0m\u001b[93m *\u001b[0m\u001b[93m (\u001b[0m\u001b[93m3\u001b[0m\u001b[93m +\u001b[0m\u001b[93m \u001b[0m\u001b[93m5\u001b[0m\u001b[93m)\u001b[0m\u001b[93m /\u001b[0m\u001b[93m \u001b[0m\u001b[93m2\u001b[0m\u001b[93m?\n",
      "\u001b[0m\u001b[93m  \u001b[0m\u001b[93m Answer\u001b[0m\u001b[93m:\u001b[0m\u001b[93m The\u001b[0m\u001b[93m result\u001b[0m\u001b[93m of\u001b[0m\u001b[93m \u001b[0m\u001b[93m10\u001b[0m\u001b[93m *\u001b[0m\u001b[93m (\u001b[0m\u001b[93m3\u001b[0m\u001b[93m +\u001b[0m\u001b[93m \u001b[0m\u001b[93m5\u001b[0m\u001b[93m)\u001b[0m\u001b[93m /\u001b[0m\u001b[93m \u001b[0m\u001b[93m2\u001b[0m\u001b[93m is\u001b[0m\u001b[93m \u001b[0m\u001b[93m40\u001b[0m\u001b[93m.\u001b[0m\u001b[93m0\u001b[0m\u001b[93m.\u001b[0m\n"
     ]
    }
   ],
   "source": [
    "# Now lets create an instance of Env.\n",
    "env = Env()\n",
    "\n",
    "# Let the agent interact with the environment.\n",
    "# Note that botplayers supports error feedback, so that agents can learn from their mistakes.\n",
    "user_message = 'Please propose three complex math calculation problems. First compute them, then store both the questions and answers.'\n",
    "agent.receive_message({'role': 'user', 'content': user_message})\n",
    "agent.think_and_act(env)\n",
    "\n",
    "user_message = 'Please show me the questions and answers.'\n",
    "agent.receive_message({'role': 'user', 'content': user_message})\n",
    "agent.think_and_act(env)"
   ]
  }
 ],
 "metadata": {
  "kernelspec": {
   "display_name": "py310",
   "language": "python",
   "name": "python3"
  },
  "language_info": {
   "codemirror_mode": {
    "name": "ipython",
    "version": 3
   },
   "file_extension": ".py",
   "mimetype": "text/x-python",
   "name": "python",
   "nbconvert_exporter": "python",
   "pygments_lexer": "ipython3",
   "version": "3.10.11"
  },
  "orig_nbformat": 4
 },
 "nbformat": 4,
 "nbformat_minor": 2
}
