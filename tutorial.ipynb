{
 "cells": [
  {
   "cell_type": "markdown",
   "metadata": {},
   "source": [
    "# Function Calling\n",
    "\n",
    "This is a simple example of how to enable agents to use functions."
   ]
  },
  {
   "cell_type": "code",
   "execution_count": 7,
   "metadata": {},
   "outputs": [],
   "source": [
    "# First, import the agent_callable decorator from botplayers.\n",
    "from botplayers import agent_callable, Agent"
   ]
  },
  {
   "cell_type": "code",
   "execution_count": 8,
   "metadata": {},
   "outputs": [],
   "source": [
    "# Then, define a function that can be called by agents.\n",
    "# 1. The function must be decorated with agent_callable.\n",
    "# 2. The function can have any number of arguments.\n",
    "# 3. The function can return any JSON-serializable object.\n",
    "# 4. [IMPORTANT] Tell agents how to call this function by writing a docstring.\n",
    "@agent_callable()\n",
    "def calculator(python_math_expression: str):\n",
    "    \"\"\"\n",
    "    A simple calculator that can do basic math operations.\n",
    "    Use math module to call functions or use constants like \n",
    "        math.sqrt, math.sin, math.cos, math.tan, math.asin, math.acos, math.atan, \n",
    "        math.log, math.log10, math.exp, math.e, math.pi.\n",
    "\n",
    "    Args:\n",
    "        python_math_expression: a python math expression.\n",
    "    \"\"\"\n",
    "    import math\n",
    "    return {'result': eval(python_math_expression, {'math': math})}"
   ]
  },
  {
   "cell_type": "code",
   "execution_count": 9,
   "metadata": {},
   "outputs": [],
   "source": [
    "# Now, let's see how to call this function from agents.\n",
    "# First, create an agent. Use prompt to tell agents what they can do.\n",
    "agent = Agent(\n",
    "    name='Bot', \n",
    "    prompt=\"You are a helpful bot. You can use functions to accomplish tasks.\",\n",
    "    interactive_objects=[calculator],\n",
    "    function_call_repeats=15, \n",
    "    ignore_none_function_messages=False)"
   ]
  },
  {
   "cell_type": "code",
   "execution_count": 10,
   "metadata": {},
   "outputs": [
    {
     "name": "stdout",
     "output_type": "stream",
     "text": [
      "\u001b[92mBot received a message: Could please tell me what is 234*(212-3456)/(121-21241)?\u001b[0m\n",
      "\u001b[93mBot >> \u001b[0m\n",
      "\u001b[94m    Bot is calling function calculator ...\u001b[0m\n",
      "\u001b[94m        with arguments {'python_math_expression': '234*(212-3456)/(121-21241)'}\u001b[0m\n",
      "\u001b[94m        response: {'result': 35.94204545454546}\u001b[0m\n",
      "\u001b[93mBot >> \u001b[0m\n",
      "\u001b[93m\u001b[0m\u001b[93mThe\u001b[0m\u001b[93m result\u001b[0m\u001b[93m of\u001b[0m\u001b[93m the\u001b[0m\u001b[93m expression\u001b[0m\u001b[93m \u001b[0m\u001b[93m234\u001b[0m\u001b[93m*(\u001b[0m\u001b[93m212\u001b[0m\u001b[93m-\u001b[0m\u001b[93m345\u001b[0m\u001b[93m6\u001b[0m\u001b[93m)/(\u001b[0m\u001b[93m121\u001b[0m\u001b[93m-\u001b[0m\u001b[93m212\u001b[0m\u001b[93m41\u001b[0m\u001b[93m)\u001b[0m\u001b[93m is\u001b[0m\u001b[93m approximately\u001b[0m\u001b[93m \u001b[0m\u001b[93m35\u001b[0m\u001b[93m.\u001b[0m\u001b[93m94\u001b[0m\u001b[93m.\u001b[0m\n"
     ]
    },
    {
     "data": {
      "text/plain": [
       "<botplayers.agent.Agent at 0x10a8cb460>"
      ]
     },
     "execution_count": 10,
     "metadata": {},
     "output_type": "execute_result"
    }
   ],
   "source": [
    "# Then, run the agent.\n",
    "user_message = \"Could please tell me what is 234*(212-3456)/(121-21241)?\"\n",
    "agent.receive_message({'role': 'user', 'content': user_message})\n",
    "agent.think_and_act()"
   ]
  },
  {
   "cell_type": "markdown",
   "metadata": {},
   "source": [
    "# World Interaction\n",
    "\n",
    "Agents can also use functions to interact with a stateful environment, e.g the world."
   ]
  },
  {
   "cell_type": "code",
   "execution_count": 11,
   "metadata": {},
   "outputs": [],
   "source": [
    "# Now, lets import the InteractiveSpace class from the botplayers package\n",
    "from botplayers import InteractiveSpace\n",
    "\n",
    "# Define simple environment with a simple state.\n",
    "class Env(InteractiveSpace):\n",
    "    messages: dict[str, list] = dict()\n",
    "\n",
    "    # Define a callable classmethod that can be called by agents.\n",
    "    # Note that, the `self` and the `agent` parameters are invisible to agents.\n",
    "    # The `self` parameter is automatically filled by the environment object.\n",
    "    # The `agent` parameter is automatically filled by the agent object.\n",
    "    # Therefore, do not mention `self` and `agent` in the docstring.\n",
    "    @agent_callable()\n",
    "    def store(self, agent: Agent, message: str):\n",
    "        \"\"\"\n",
    "        Store a message from an agent.\n",
    "\n",
    "        Args:\n",
    "            message: the message to store.\n",
    "        \"\"\"\n",
    "        if agent.name not in self.messages:\n",
    "            self.messages[agent.name] = []\n",
    "        self.messages[agent.name].append(message)\n",
    "        return 'done'\n",
    "\n",
    "    @agent_callable()\n",
    "    def get_stored_messages(self, agent: Agent):\n",
    "        \"\"\"\n",
    "        Get all stored messages.\n",
    "\n",
    "        Returns:\n",
    "            messages: the list of messages.\n",
    "        \"\"\"\n",
    "        return {'messages': self.messages.get(agent.name, [])}"
   ]
  },
  {
   "cell_type": "code",
   "execution_count": 12,
   "metadata": {},
   "outputs": [
    {
     "name": "stdout",
     "output_type": "stream",
     "text": [
      "\u001b[92mBot received a message: Please propose three complex math calculation problems. First compute them, then store both the questions and answers.\u001b[0m\n",
      "\u001b[93mBot >> \u001b[0m\n",
      "\u001b[94m    Bot is calling function calculator ...\u001b[0m\n",
      "\u001b[94m        with arguments {'python_math_expression': '7^3 + (sqrt(25) * cos(pi/4)) - log10(1000)'}\u001b[0m\n",
      "\u001b[91m        error: name 'sqrt' is not defined\u001b[0m\n",
      "\u001b[93mBot >> \u001b[0m\n",
      "\u001b[94m    Bot is calling function calculator ...\u001b[0m\n",
      "\u001b[94m        with arguments {'python_math_expression': '7**3 + (sqrt(25) * cos(pi/4)) - log10(1000)'}\u001b[0m\n",
      "\u001b[91m        error: name 'sqrt' is not defined\u001b[0m\n",
      "\u001b[93mBot >> \u001b[0m\n",
      "\u001b[94m    Bot is calling function calculator ...\u001b[0m\n",
      "\u001b[94m        with arguments {'python_math_expression': '7**3 + ((25**0.5) * cos(math.pi/4)) - math.log10(1000)'}\u001b[0m\n",
      "\u001b[91m        error: name 'cos' is not defined\u001b[0m\n",
      "\u001b[93mBot >> \u001b[0m\n",
      "\u001b[94m    Bot is calling function calculator ...\u001b[0m\n",
      "\u001b[94m        with arguments {'python_math_expression': '7**3 + ((25**0.5) * math.cos(math.pi/4)) - math.log10(1000)'}\u001b[0m\n",
      "\u001b[94m        response: {'result': 343.53553390593277}\u001b[0m\n",
      "\u001b[93mBot >> \u001b[0m\n",
      "\u001b[94m    Bot is calling function store ...\u001b[0m\n",
      "\u001b[94m        with arguments {'message': 'Question 1: Compute 7^3 + (sqrt(25) * cos(pi/4)) - log10(1000).\\nAnswer: 343.54'}\u001b[0m\n",
      "\u001b[94m        response: done\u001b[0m\n",
      "\u001b[93mBot >> \u001b[0m\n",
      "\u001b[94m    Bot is calling function calculator ...\u001b[0m\n",
      "\u001b[94m        with arguments {'python_math_expression': '(3 * math.factorial(5)) / (math.sqrt(16) + math.log(100))'}\u001b[0m\n",
      "\u001b[94m        response: {'result': 41.83531437718601}\u001b[0m\n",
      "\u001b[93mBot >> \u001b[0m\n",
      "\u001b[94m    Bot is calling function store ...\u001b[0m\n",
      "\u001b[94m        with arguments {'message': 'Question 2: Compute (3 * factorial(5)) / (sqrt(16) + log(100)).\\nAnswer: 41.84'}\u001b[0m\n",
      "\u001b[94m        response: done\u001b[0m\n",
      "\u001b[93mBot >> \u001b[0m\n",
      "\u001b[94m    Bot is calling function calculator ...\u001b[0m\n",
      "\u001b[94m        with arguments {'python_math_expression': 'math.sin(math.radians(45)) + (math.e**2) - math.ceil(6.72)'}\u001b[0m\n",
      "\u001b[94m        response: {'result': 1.0961628801171965}\u001b[0m\n",
      "\u001b[93mBot >> \u001b[0m\n",
      "\u001b[94m    Bot is calling function store ...\u001b[0m\n",
      "\u001b[94m        with arguments {'message': 'Question 3: Compute sin(45 deg) + e^2 - ceil(6.72).\\nAnswer: 1.10'}\u001b[0m\n",
      "\u001b[94m        response: done\u001b[0m\n",
      "\u001b[93mBot >> \u001b[0m\n",
      "\u001b[93m\u001b[0m\u001b[93mI\u001b[0m\u001b[93m have\u001b[0m\u001b[93m created\u001b[0m\u001b[93m three\u001b[0m\u001b[93m complex\u001b[0m\u001b[93m math\u001b[0m\u001b[93m calculation\u001b[0m\u001b[93m problems\u001b[0m\u001b[93m for\u001b[0m\u001b[93m you\u001b[0m\u001b[93m.\u001b[0m\u001b[93m Here\u001b[0m\u001b[93m they\u001b[0m\u001b[93m are\u001b[0m\u001b[93m:\n",
      "\n",
      "\u001b[0m\u001b[93mQuestion\u001b[0m\u001b[93m \u001b[0m\u001b[93m1\u001b[0m\u001b[93m:\u001b[0m\u001b[93m Compute\u001b[0m\u001b[93m \u001b[0m\u001b[93m7\u001b[0m\u001b[93m^\u001b[0m\u001b[93m3\u001b[0m\u001b[93m +\u001b[0m\u001b[93m (\u001b[0m\u001b[93msqrt\u001b[0m\u001b[93m(\u001b[0m\u001b[93m25\u001b[0m\u001b[93m)\u001b[0m\u001b[93m *\u001b[0m\u001b[93m cos\u001b[0m\u001b[93m(pi\u001b[0m\u001b[93m/\u001b[0m\u001b[93m4\u001b[0m\u001b[93m))\u001b[0m\u001b[93m -\u001b[0m\u001b[93m log\u001b[0m\u001b[93m10\u001b[0m\u001b[93m(\u001b[0m\u001b[93m100\u001b[0m\u001b[93m0\u001b[0m\u001b[93m).\n",
      "\u001b[0m\u001b[93mAnswer\u001b[0m\u001b[93m:\u001b[0m\u001b[93m \u001b[0m\u001b[93m343\u001b[0m\u001b[93m.\u001b[0m\u001b[93m54\u001b[0m\u001b[93m\n",
      "\n",
      "\u001b[0m\u001b[93mQuestion\u001b[0m\u001b[93m \u001b[0m\u001b[93m2\u001b[0m\u001b[93m:\u001b[0m\u001b[93m Compute\u001b[0m\u001b[93m (\u001b[0m\u001b[93m3\u001b[0m\u001b[93m *\u001b[0m\u001b[93m factorial\u001b[0m\u001b[93m(\u001b[0m\u001b[93m5\u001b[0m\u001b[93m))\u001b[0m\u001b[93m /\u001b[0m\u001b[93m (\u001b[0m\u001b[93msqrt\u001b[0m\u001b[93m(\u001b[0m\u001b[93m16\u001b[0m\u001b[93m)\u001b[0m\u001b[93m +\u001b[0m\u001b[93m log\u001b[0m\u001b[93m(\u001b[0m\u001b[93m100\u001b[0m\u001b[93m)).\n",
      "\u001b[0m\u001b[93mAnswer\u001b[0m\u001b[93m:\u001b[0m\u001b[93m \u001b[0m\u001b[93m41\u001b[0m\u001b[93m.\u001b[0m\u001b[93m84\u001b[0m\u001b[93m\n",
      "\n",
      "\u001b[0m\u001b[93mQuestion\u001b[0m\u001b[93m \u001b[0m\u001b[93m3\u001b[0m\u001b[93m:\u001b[0m\u001b[93m Compute\u001b[0m\u001b[93m sin\u001b[0m\u001b[93m(\u001b[0m\u001b[93m45\u001b[0m\u001b[93m deg\u001b[0m\u001b[93m)\u001b[0m\u001b[93m +\u001b[0m\u001b[93m e\u001b[0m\u001b[93m^\u001b[0m\u001b[93m2\u001b[0m\u001b[93m -\u001b[0m\u001b[93m ceil\u001b[0m\u001b[93m(\u001b[0m\u001b[93m6\u001b[0m\u001b[93m.\u001b[0m\u001b[93m72\u001b[0m\u001b[93m).\n",
      "\u001b[0m\u001b[93mAnswer\u001b[0m\u001b[93m:\u001b[0m\u001b[93m \u001b[0m\u001b[93m1\u001b[0m\u001b[93m.\u001b[0m\u001b[93m10\u001b[0m\u001b[93m\n",
      "\n",
      "\u001b[0m\u001b[93mThe\u001b[0m\u001b[93m questions\u001b[0m\u001b[93m and\u001b[0m\u001b[93m answers\u001b[0m\u001b[93m have\u001b[0m\u001b[93m been\u001b[0m\u001b[93m stored\u001b[0m\u001b[93m.\u001b[0m\u001b[93m Let\u001b[0m\u001b[93m me\u001b[0m\u001b[93m know\u001b[0m\u001b[93m if\u001b[0m\u001b[93m you\u001b[0m\u001b[93m need\u001b[0m\u001b[93m any\u001b[0m\u001b[93m further\u001b[0m\u001b[93m assistance\u001b[0m\u001b[93m.\u001b[0m\n",
      "\u001b[92mBot received a message: Please show me the questions and answers.\u001b[0m\n",
      "\u001b[93mBot >> \u001b[0m\n",
      "\u001b[94m    Bot is calling function get_stored_messages ...\u001b[0m\n",
      "\u001b[94m        with arguments {}\u001b[0m\n",
      "\u001b[94m        response: {'messages': ['Question 1: Compute 7^3 + (sqrt(25) * cos(pi/4)) - log10(1000).\\nAnswer: 343.54', 'Question 2: Compute (3 * factorial(5)) / (sqrt(16) + log(100)).\\nAnswer: 41.84', 'Question 3: Compute sin(45 deg) + e^2 - ceil(6.72).\\nAnswer: 1.10']}\u001b[0m\n",
      "\u001b[93mBot >> \u001b[0m\n",
      "\u001b[93m\u001b[0m\u001b[93mHere\u001b[0m\u001b[93m are\u001b[0m\u001b[93m the\u001b[0m\u001b[93m questions\u001b[0m\u001b[93m and\u001b[0m\u001b[93m answers\u001b[0m\u001b[93m you\u001b[0m\u001b[93m requested\u001b[0m\u001b[93m:\n",
      "\n",
      "\u001b[0m\u001b[93mQuestion\u001b[0m\u001b[93m \u001b[0m\u001b[93m1\u001b[0m\u001b[93m:\u001b[0m\u001b[93m Compute\u001b[0m\u001b[93m \u001b[0m\u001b[93m7\u001b[0m\u001b[93m^\u001b[0m\u001b[93m3\u001b[0m\u001b[93m +\u001b[0m\u001b[93m (\u001b[0m\u001b[93msqrt\u001b[0m\u001b[93m(\u001b[0m\u001b[93m25\u001b[0m\u001b[93m)\u001b[0m\u001b[93m *\u001b[0m\u001b[93m cos\u001b[0m\u001b[93m(pi\u001b[0m\u001b[93m/\u001b[0m\u001b[93m4\u001b[0m\u001b[93m))\u001b[0m\u001b[93m -\u001b[0m\u001b[93m log\u001b[0m\u001b[93m10\u001b[0m\u001b[93m(\u001b[0m\u001b[93m100\u001b[0m\u001b[93m0\u001b[0m\u001b[93m).\n",
      "\u001b[0m\u001b[93mAnswer\u001b[0m\u001b[93m:\u001b[0m\u001b[93m \u001b[0m\u001b[93m343\u001b[0m\u001b[93m.\u001b[0m\u001b[93m54\u001b[0m\u001b[93m\n",
      "\n",
      "\u001b[0m\u001b[93mQuestion\u001b[0m\u001b[93m \u001b[0m\u001b[93m2\u001b[0m\u001b[93m:\u001b[0m\u001b[93m Compute\u001b[0m\u001b[93m (\u001b[0m\u001b[93m3\u001b[0m\u001b[93m *\u001b[0m\u001b[93m factorial\u001b[0m\u001b[93m(\u001b[0m\u001b[93m5\u001b[0m\u001b[93m))\u001b[0m\u001b[93m /\u001b[0m\u001b[93m (\u001b[0m\u001b[93msqrt\u001b[0m\u001b[93m(\u001b[0m\u001b[93m16\u001b[0m\u001b[93m)\u001b[0m\u001b[93m +\u001b[0m\u001b[93m log\u001b[0m\u001b[93m(\u001b[0m\u001b[93m100\u001b[0m\u001b[93m)).\n",
      "\u001b[0m\u001b[93mAnswer\u001b[0m\u001b[93m:\u001b[0m\u001b[93m \u001b[0m\u001b[93m41\u001b[0m\u001b[93m.\u001b[0m\u001b[93m84\u001b[0m\u001b[93m\n",
      "\n",
      "\u001b[0m\u001b[93mQuestion\u001b[0m\u001b[93m \u001b[0m\u001b[93m3\u001b[0m\u001b[93m:\u001b[0m\u001b[93m Compute\u001b[0m\u001b[93m sin\u001b[0m\u001b[93m(\u001b[0m\u001b[93m45\u001b[0m\u001b[93m deg\u001b[0m\u001b[93m)\u001b[0m\u001b[93m +\u001b[0m\u001b[93m e\u001b[0m\u001b[93m^\u001b[0m\u001b[93m2\u001b[0m\u001b[93m -\u001b[0m\u001b[93m ceil\u001b[0m\u001b[93m(\u001b[0m\u001b[93m6\u001b[0m\u001b[93m.\u001b[0m\u001b[93m72\u001b[0m\u001b[93m).\n",
      "\u001b[0m\u001b[93mAnswer\u001b[0m\u001b[93m:\u001b[0m\u001b[93m \u001b[0m\u001b[93m1\u001b[0m\u001b[93m.\u001b[0m\u001b[93m10\u001b[0m\u001b[93m\n",
      "\n",
      "\u001b[0m\u001b[93mIf\u001b[0m\u001b[93m you\u001b[0m\u001b[93m have\u001b[0m\u001b[93m any\u001b[0m\u001b[93m more\u001b[0m\u001b[93m questions\u001b[0m\u001b[93m,\u001b[0m\u001b[93m feel\u001b[0m\u001b[93m free\u001b[0m\u001b[93m to\u001b[0m\u001b[93m ask\u001b[0m\u001b[93m!\u001b[0m\n"
     ]
    },
    {
     "data": {
      "text/plain": [
       "<botplayers.agent.Agent at 0x10a8cb460>"
      ]
     },
     "execution_count": 12,
     "metadata": {},
     "output_type": "execute_result"
    }
   ],
   "source": [
    "# Now lets create an instance of Env.\n",
    "env = Env()\n",
    "\n",
    "# Let the agent interact with the environment.\n",
    "agent.add_interactive_object(env)\n",
    "\n",
    "# Note that botplayers supports error feedback, so that agents can learn from their mistakes.\n",
    "user_message = 'Please propose three complex math calculation problems. First compute them, then store both the questions and answers.'\n",
    "agent.receive_message({'role': 'user', 'content': user_message})\n",
    "agent.think_and_act()\n",
    "\n",
    "user_message = 'Please show me the questions and answers.'\n",
    "agent.receive_message({'role': 'user', 'content': user_message})\n",
    "agent.think_and_act()"
   ]
  }
 ],
 "metadata": {
  "kernelspec": {
   "display_name": "py310",
   "language": "python",
   "name": "python3"
  },
  "language_info": {
   "codemirror_mode": {
    "name": "ipython",
    "version": 3
   },
   "file_extension": ".py",
   "mimetype": "text/x-python",
   "name": "python",
   "nbconvert_exporter": "python",
   "pygments_lexer": "ipython3",
   "version": "3.10.11"
  },
  "orig_nbformat": 4
 },
 "nbformat": 4,
 "nbformat_minor": 2
}
